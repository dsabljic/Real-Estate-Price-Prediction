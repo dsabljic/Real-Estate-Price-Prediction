{
 "cells": [
  {
   "cell_type": "markdown",
   "id": "198ace84",
   "metadata": {},
   "source": [
    "# Real estate price prediction using linear regression"
   ]
  },
  {
   "cell_type": "markdown",
   "id": "8fcf25b6",
   "metadata": {},
   "source": [
    "### Implementation from scratch"
   ]
  },
  {
   "cell_type": "markdown",
   "id": "168c8339",
   "metadata": {},
   "source": [
    "Libraries used(scikit-learn imported for later use, the algorithm is implemented with custom functions and preprocessing at first and only then I moved on to production-like implementation with sklearn)"
   ]
  },
  {
   "cell_type": "code",
   "execution_count": 1,
   "id": "75ff4f3e",
   "metadata": {},
   "outputs": [],
   "source": [
    "import numpy as np\n",
    "import pandas as pd\n",
    "import matplotlib.pyplot as plt\n",
    "from sklearn.preprocessing import StandardScaler\n",
    "from sklearn.linear_model import SGDRegressor"
   ]
  },
  {
   "cell_type": "markdown",
   "id": "d6b01e79",
   "metadata": {},
   "source": [
    "###### Load the data set\n",
    "From the below displayed fraction of a given real estate prices dataset it's easy to notice that some of the given features would cause noise in the sense that they would lead the model astray. Transaction date, house number and coordinates are excessive data so they're going to be removed from the dataset. If we're just using raw lat/long information we should remove them because the values of lat/long are not meaningful in and of themselves, conditional on your model not having any \"understanding\" of what a change in lat/long means. For instance, what would a change in 1 degree in latitude mean in terms of a change in your target variable? If there is nothing related that way, then you introduce either noise or potentially spurious relationships. The reason for house number and transaction date being taken out of the dataset is trivial."
   ]
  },
  {
   "cell_type": "code",
   "execution_count": 2,
   "id": "852d1109",
   "metadata": {
    "scrolled": true
   },
   "outputs": [
    {
     "data": {
      "text/html": [
       "<div>\n",
       "<style scoped>\n",
       "    .dataframe tbody tr th:only-of-type {\n",
       "        vertical-align: middle;\n",
       "    }\n",
       "\n",
       "    .dataframe tbody tr th {\n",
       "        vertical-align: top;\n",
       "    }\n",
       "\n",
       "    .dataframe thead th {\n",
       "        text-align: right;\n",
       "    }\n",
       "</style>\n",
       "<table border=\"1\" class=\"dataframe\">\n",
       "  <thead>\n",
       "    <tr style=\"text-align: right;\">\n",
       "      <th></th>\n",
       "      <th>No</th>\n",
       "      <th>X1 transaction date</th>\n",
       "      <th>X2 house age</th>\n",
       "      <th>X3 distance to the nearest MRT station</th>\n",
       "      <th>X4 number of convenience stores</th>\n",
       "      <th>X5 latitude</th>\n",
       "      <th>X6 longitude</th>\n",
       "      <th>Y house price of unit area</th>\n",
       "    </tr>\n",
       "  </thead>\n",
       "  <tbody>\n",
       "    <tr>\n",
       "      <th>0</th>\n",
       "      <td>1</td>\n",
       "      <td>2012.917</td>\n",
       "      <td>32.0</td>\n",
       "      <td>84.87882</td>\n",
       "      <td>10</td>\n",
       "      <td>24.98298</td>\n",
       "      <td>121.54024</td>\n",
       "      <td>37.9</td>\n",
       "    </tr>\n",
       "    <tr>\n",
       "      <th>1</th>\n",
       "      <td>2</td>\n",
       "      <td>2012.917</td>\n",
       "      <td>19.5</td>\n",
       "      <td>306.59470</td>\n",
       "      <td>9</td>\n",
       "      <td>24.98034</td>\n",
       "      <td>121.53951</td>\n",
       "      <td>42.2</td>\n",
       "    </tr>\n",
       "    <tr>\n",
       "      <th>2</th>\n",
       "      <td>3</td>\n",
       "      <td>2013.583</td>\n",
       "      <td>13.3</td>\n",
       "      <td>561.98450</td>\n",
       "      <td>5</td>\n",
       "      <td>24.98746</td>\n",
       "      <td>121.54391</td>\n",
       "      <td>47.3</td>\n",
       "    </tr>\n",
       "    <tr>\n",
       "      <th>3</th>\n",
       "      <td>4</td>\n",
       "      <td>2013.500</td>\n",
       "      <td>13.3</td>\n",
       "      <td>561.98450</td>\n",
       "      <td>5</td>\n",
       "      <td>24.98746</td>\n",
       "      <td>121.54391</td>\n",
       "      <td>54.8</td>\n",
       "    </tr>\n",
       "    <tr>\n",
       "      <th>4</th>\n",
       "      <td>5</td>\n",
       "      <td>2012.833</td>\n",
       "      <td>5.0</td>\n",
       "      <td>390.56840</td>\n",
       "      <td>5</td>\n",
       "      <td>24.97937</td>\n",
       "      <td>121.54245</td>\n",
       "      <td>43.1</td>\n",
       "    </tr>\n",
       "    <tr>\n",
       "      <th>5</th>\n",
       "      <td>6</td>\n",
       "      <td>2012.667</td>\n",
       "      <td>7.1</td>\n",
       "      <td>2175.03000</td>\n",
       "      <td>3</td>\n",
       "      <td>24.96305</td>\n",
       "      <td>121.51254</td>\n",
       "      <td>32.1</td>\n",
       "    </tr>\n",
       "    <tr>\n",
       "      <th>6</th>\n",
       "      <td>7</td>\n",
       "      <td>2012.667</td>\n",
       "      <td>34.5</td>\n",
       "      <td>623.47310</td>\n",
       "      <td>7</td>\n",
       "      <td>24.97933</td>\n",
       "      <td>121.53642</td>\n",
       "      <td>40.3</td>\n",
       "    </tr>\n",
       "    <tr>\n",
       "      <th>7</th>\n",
       "      <td>8</td>\n",
       "      <td>2013.417</td>\n",
       "      <td>20.3</td>\n",
       "      <td>287.60250</td>\n",
       "      <td>6</td>\n",
       "      <td>24.98042</td>\n",
       "      <td>121.54228</td>\n",
       "      <td>46.7</td>\n",
       "    </tr>\n",
       "    <tr>\n",
       "      <th>8</th>\n",
       "      <td>9</td>\n",
       "      <td>2013.500</td>\n",
       "      <td>31.7</td>\n",
       "      <td>5512.03800</td>\n",
       "      <td>1</td>\n",
       "      <td>24.95095</td>\n",
       "      <td>121.48458</td>\n",
       "      <td>18.8</td>\n",
       "    </tr>\n",
       "    <tr>\n",
       "      <th>9</th>\n",
       "      <td>10</td>\n",
       "      <td>2013.417</td>\n",
       "      <td>17.9</td>\n",
       "      <td>1783.18000</td>\n",
       "      <td>3</td>\n",
       "      <td>24.96731</td>\n",
       "      <td>121.51486</td>\n",
       "      <td>22.1</td>\n",
       "    </tr>\n",
       "  </tbody>\n",
       "</table>\n",
       "</div>"
      ],
      "text/plain": [
       "   No  X1 transaction date  X2 house age  \\\n",
       "0   1             2012.917          32.0   \n",
       "1   2             2012.917          19.5   \n",
       "2   3             2013.583          13.3   \n",
       "3   4             2013.500          13.3   \n",
       "4   5             2012.833           5.0   \n",
       "5   6             2012.667           7.1   \n",
       "6   7             2012.667          34.5   \n",
       "7   8             2013.417          20.3   \n",
       "8   9             2013.500          31.7   \n",
       "9  10             2013.417          17.9   \n",
       "\n",
       "   X3 distance to the nearest MRT station  X4 number of convenience stores  \\\n",
       "0                                84.87882                               10   \n",
       "1                               306.59470                                9   \n",
       "2                               561.98450                                5   \n",
       "3                               561.98450                                5   \n",
       "4                               390.56840                                5   \n",
       "5                              2175.03000                                3   \n",
       "6                               623.47310                                7   \n",
       "7                               287.60250                                6   \n",
       "8                              5512.03800                                1   \n",
       "9                              1783.18000                                3   \n",
       "\n",
       "   X5 latitude  X6 longitude  Y house price of unit area  \n",
       "0     24.98298     121.54024                        37.9  \n",
       "1     24.98034     121.53951                        42.2  \n",
       "2     24.98746     121.54391                        47.3  \n",
       "3     24.98746     121.54391                        54.8  \n",
       "4     24.97937     121.54245                        43.1  \n",
       "5     24.96305     121.51254                        32.1  \n",
       "6     24.97933     121.53642                        40.3  \n",
       "7     24.98042     121.54228                        46.7  \n",
       "8     24.95095     121.48458                        18.8  \n",
       "9     24.96731     121.51486                        22.1  "
      ]
     },
     "execution_count": 2,
     "metadata": {},
     "output_type": "execute_result"
    }
   ],
   "source": [
    "df = pd.read_csv('Real estate.csv')\n",
    "df.head(10)"
   ]
  },
  {
   "cell_type": "markdown",
   "id": "365b13b5",
   "metadata": {},
   "source": [
    "###### Cleaning data"
   ]
  },
  {
   "cell_type": "code",
   "execution_count": 3,
   "id": "aa26886f",
   "metadata": {},
   "outputs": [
    {
     "data": {
      "text/html": [
       "<div>\n",
       "<style scoped>\n",
       "    .dataframe tbody tr th:only-of-type {\n",
       "        vertical-align: middle;\n",
       "    }\n",
       "\n",
       "    .dataframe tbody tr th {\n",
       "        vertical-align: top;\n",
       "    }\n",
       "\n",
       "    .dataframe thead th {\n",
       "        text-align: right;\n",
       "    }\n",
       "</style>\n",
       "<table border=\"1\" class=\"dataframe\">\n",
       "  <thead>\n",
       "    <tr style=\"text-align: right;\">\n",
       "      <th></th>\n",
       "      <th>X2 house age</th>\n",
       "      <th>X3 distance to the nearest MRT station</th>\n",
       "      <th>X4 number of convenience stores</th>\n",
       "      <th>Y house price of unit area</th>\n",
       "    </tr>\n",
       "    <tr>\n",
       "      <th>No</th>\n",
       "      <th></th>\n",
       "      <th></th>\n",
       "      <th></th>\n",
       "      <th></th>\n",
       "    </tr>\n",
       "  </thead>\n",
       "  <tbody>\n",
       "    <tr>\n",
       "      <th>1</th>\n",
       "      <td>32.0</td>\n",
       "      <td>84.87882</td>\n",
       "      <td>10</td>\n",
       "      <td>37.9</td>\n",
       "    </tr>\n",
       "    <tr>\n",
       "      <th>2</th>\n",
       "      <td>19.5</td>\n",
       "      <td>306.59470</td>\n",
       "      <td>9</td>\n",
       "      <td>42.2</td>\n",
       "    </tr>\n",
       "    <tr>\n",
       "      <th>3</th>\n",
       "      <td>13.3</td>\n",
       "      <td>561.98450</td>\n",
       "      <td>5</td>\n",
       "      <td>47.3</td>\n",
       "    </tr>\n",
       "    <tr>\n",
       "      <th>4</th>\n",
       "      <td>13.3</td>\n",
       "      <td>561.98450</td>\n",
       "      <td>5</td>\n",
       "      <td>54.8</td>\n",
       "    </tr>\n",
       "    <tr>\n",
       "      <th>5</th>\n",
       "      <td>5.0</td>\n",
       "      <td>390.56840</td>\n",
       "      <td>5</td>\n",
       "      <td>43.1</td>\n",
       "    </tr>\n",
       "    <tr>\n",
       "      <th>6</th>\n",
       "      <td>7.1</td>\n",
       "      <td>2175.03000</td>\n",
       "      <td>3</td>\n",
       "      <td>32.1</td>\n",
       "    </tr>\n",
       "    <tr>\n",
       "      <th>7</th>\n",
       "      <td>34.5</td>\n",
       "      <td>623.47310</td>\n",
       "      <td>7</td>\n",
       "      <td>40.3</td>\n",
       "    </tr>\n",
       "    <tr>\n",
       "      <th>8</th>\n",
       "      <td>20.3</td>\n",
       "      <td>287.60250</td>\n",
       "      <td>6</td>\n",
       "      <td>46.7</td>\n",
       "    </tr>\n",
       "    <tr>\n",
       "      <th>9</th>\n",
       "      <td>31.7</td>\n",
       "      <td>5512.03800</td>\n",
       "      <td>1</td>\n",
       "      <td>18.8</td>\n",
       "    </tr>\n",
       "    <tr>\n",
       "      <th>10</th>\n",
       "      <td>17.9</td>\n",
       "      <td>1783.18000</td>\n",
       "      <td>3</td>\n",
       "      <td>22.1</td>\n",
       "    </tr>\n",
       "  </tbody>\n",
       "</table>\n",
       "</div>"
      ],
      "text/plain": [
       "    X2 house age  X3 distance to the nearest MRT station  \\\n",
       "No                                                         \n",
       "1           32.0                                84.87882   \n",
       "2           19.5                               306.59470   \n",
       "3           13.3                               561.98450   \n",
       "4           13.3                               561.98450   \n",
       "5            5.0                               390.56840   \n",
       "6            7.1                              2175.03000   \n",
       "7           34.5                               623.47310   \n",
       "8           20.3                               287.60250   \n",
       "9           31.7                              5512.03800   \n",
       "10          17.9                              1783.18000   \n",
       "\n",
       "    X4 number of convenience stores  Y house price of unit area  \n",
       "No                                                               \n",
       "1                                10                        37.9  \n",
       "2                                 9                        42.2  \n",
       "3                                 5                        47.3  \n",
       "4                                 5                        54.8  \n",
       "5                                 5                        43.1  \n",
       "6                                 3                        32.1  \n",
       "7                                 7                        40.3  \n",
       "8                                 6                        46.7  \n",
       "9                                 1                        18.8  \n",
       "10                                3                        22.1  "
      ]
     },
     "execution_count": 3,
     "metadata": {},
     "output_type": "execute_result"
    }
   ],
   "source": [
    "# setting No as the index to avoid redundancy\n",
    "df.set_index('No' , inplace = True)\n",
    "# removing excess columns\n",
    "del df['X1 transaction date'] , df['X5 latitude'] , df['X6 longitude']\n",
    "df.head(10)"
   ]
  },
  {
   "cell_type": "markdown",
   "id": "0c5606b2",
   "metadata": {},
   "source": [
    "After the dataset has been cleaned we can shift our attention to normalizing the features."
   ]
  },
  {
   "cell_type": "code",
   "execution_count": 4,
   "id": "96247971",
   "metadata": {},
   "outputs": [],
   "source": [
    "# loading in the dataset into numpy ndarray\n",
    "data = np.loadtxt('Real estate.csv' , delimiter = ',' , skiprows = 1)\n",
    "# cleaning the array just like the corresponding pd DataFrame above\n",
    "data = np.delete(data , [0 , 1 , 5 , 6] , 1)"
   ]
  },
  {
   "cell_type": "code",
   "execution_count": 5,
   "id": "f76a6cc4",
   "metadata": {},
   "outputs": [
    {
     "data": {
      "text/plain": [
       "array([[3.200000e+01, 8.487882e+01, 1.000000e+01, 3.790000e+01],\n",
       "       [1.950000e+01, 3.065947e+02, 9.000000e+00, 4.220000e+01],\n",
       "       [1.330000e+01, 5.619845e+02, 5.000000e+00, 4.730000e+01],\n",
       "       [1.330000e+01, 5.619845e+02, 5.000000e+00, 5.480000e+01],\n",
       "       [5.000000e+00, 3.905684e+02, 5.000000e+00, 4.310000e+01],\n",
       "       [7.100000e+00, 2.175030e+03, 3.000000e+00, 3.210000e+01],\n",
       "       [3.450000e+01, 6.234731e+02, 7.000000e+00, 4.030000e+01],\n",
       "       [2.030000e+01, 2.876025e+02, 6.000000e+00, 4.670000e+01],\n",
       "       [3.170000e+01, 5.512038e+03, 1.000000e+00, 1.880000e+01],\n",
       "       [1.790000e+01, 1.783180e+03, 3.000000e+00, 2.210000e+01]])"
      ]
     },
     "execution_count": 5,
     "metadata": {},
     "output_type": "execute_result"
    }
   ],
   "source": [
    "data[:10]"
   ]
  },
  {
   "cell_type": "code",
   "execution_count": 11,
   "id": "a4a90223",
   "metadata": {},
   "outputs": [],
   "source": [
    "# design matrix\n",
    "X_train = data[: , :3]\n",
    "# label matrix\n",
    "y_train = data[: , 3]"
   ]
  },
  {
   "cell_type": "markdown",
   "id": "7f5145ec",
   "metadata": {},
   "source": [
    "###### Normalization"
   ]
  },
  {
   "cell_type": "code",
   "execution_count": 12,
   "id": "0c969be8",
   "metadata": {},
   "outputs": [],
   "source": [
    "def normalize(X):\n",
    "    \"\"\"\n",
    "    Normalize features\n",
    "    Args:\n",
    "      X (ndarray (m,n)): Feture matrix (design matrix), m examples with n features\n",
    "    Returns:\n",
    "      Normalized feature matrix\n",
    "    \"\"\"\n",
    "    mu = np.mean(X , axis = 0)\n",
    "    stdev = np.std(X , axis = 0)\n",
    "    return (X - mu) / stdev\n",
    "\n",
    "def normalize_vector(X , x):\n",
    "    \"\"\"\n",
    "    Normalizes single vector\n",
    "    Args:\n",
    "      X (ndarray (m,n)): Data, m examples with n features\n",
    "      x (ndarray (n,)): Feature vector\n",
    "    Returns:\n",
    "      z-score normalized feature vector\n",
    "    \"\"\"\n",
    "    mu = np.mean(X)\n",
    "    stdev = np.std(X)\n",
    "    return (x - mu) / stdev"
   ]
  },
  {
   "cell_type": "code",
   "execution_count": 13,
   "id": "7297bb66",
   "metadata": {},
   "outputs": [
    {
     "name": "stdout",
     "output_type": "stream",
     "text": [
      "Peek to peek before normalization: [  43.8     6464.63816   10.     ]\n",
      "Peek to peek after normalization: [3.84929156 5.12828671 3.39904571]\n"
     ]
    }
   ],
   "source": [
    "# normalized design matrix\n",
    "X_norm = normalize(X_train)\n",
    "print(f'Peek to peek before normalization: {np.ptp(X_train , axis = 0)}')\n",
    "print(f'Peek to peek after normalization: {np.ptp(X_norm , axis = 0)}')"
   ]
  },
  {
   "cell_type": "markdown",
   "id": "40dcef90",
   "metadata": {},
   "source": [
    "###### Computing cost"
   ]
  },
  {
   "cell_type": "code",
   "execution_count": 14,
   "id": "63699320",
   "metadata": {},
   "outputs": [],
   "source": [
    "def compute_cost(X , y , w , b):\n",
    "    \"\"\"\n",
    "    compute cost\n",
    "    Args:\n",
    "      X (ndarray (m,n)): Data, m examples with n features\n",
    "      y (ndarray (m,)) : target values\n",
    "      w (ndarray (n,)) : model parameters  \n",
    "      b (scalar)       : model parameter\n",
    "      \n",
    "    Returns:\n",
    "      Cost\n",
    "    \"\"\"\n",
    "    m = X.shape[0]\n",
    "    return sum((np.dot(X , w) + b - y) ** 2) / (2 * m)"
   ]
  },
  {
   "cell_type": "markdown",
   "id": "1dc58c2c",
   "metadata": {},
   "source": [
    "Computing cost eith zero-initialized w and b parameters"
   ]
  },
  {
   "cell_type": "code",
   "execution_count": 15,
   "id": "b3f3c7cc",
   "metadata": {},
   "outputs": [
    {
     "data": {
      "text/plain": [
       "813.5921980676324"
      ]
     },
     "execution_count": 15,
     "metadata": {},
     "output_type": "execute_result"
    }
   ],
   "source": [
    "w_in = np.zeros(3)\n",
    "b_in = 0\n",
    "compute_cost(X_norm , y_train , w_in , b_in)"
   ]
  },
  {
   "cell_type": "markdown",
   "id": "29bc135a",
   "metadata": {},
   "source": [
    "###### Computing gradient for given w and b parameters"
   ]
  },
  {
   "cell_type": "code",
   "execution_count": 16,
   "id": "7417b58c",
   "metadata": {},
   "outputs": [],
   "source": [
    "def compute_gradient(X , y , w , b):\n",
    "    \"\"\"\n",
    "    Computes the gradient for linear regression \n",
    "    Args:\n",
    "      X (ndarray (m,n)): Data, m examples with n features\n",
    "      y (ndarray (m,)) : target values\n",
    "      w (ndarray (n,)) : model parameters  \n",
    "      b (scalar)       : model parameter\n",
    "      \n",
    "    Returns:\n",
    "      dj_dw (ndarray (n,)): The gradient of the cost w.r.t. the parameters w. \n",
    "      dj_db (scalar):       The gradient of the cost w.r.t. the parameter b. \n",
    "    \"\"\"\n",
    "    m , n = X.shape\n",
    "    dj_dw = np.zeros(n)\n",
    "    dj_db = 0.\n",
    "    err = np.dot(X , w) + b - y\n",
    "    for i in range(m):\n",
    "        for j in range(n):\n",
    "            dj_dw[j] += err[i] * X[i , j]\n",
    "        dj_db += err[i]\n",
    "    dj_dw /= m\n",
    "    dj_db /= m\n",
    "    \n",
    "    return dj_dw , dj_db"
   ]
  },
  {
   "cell_type": "code",
   "execution_count": 17,
   "id": "89f8d78b",
   "metadata": {
    "scrolled": true
   },
   "outputs": [
    {
     "name": "stdout",
     "output_type": "stream",
     "text": [
      "dj_db at initial w,b: -37.98019323671498\n",
      "dj_dw at initial w,b: \n",
      " [ 2.86161559  9.15442889 -7.75998233]\n"
     ]
    }
   ],
   "source": [
    "tmp_dj_dw, tmp_dj_db = compute_gradient(X_norm , y_train , w_in , b_in)\n",
    "print(f'dj_db at initial w,b: {tmp_dj_db}')\n",
    "print(f'dj_dw at initial w,b: \\n {tmp_dj_dw}')"
   ]
  },
  {
   "cell_type": "markdown",
   "id": "d3590c97",
   "metadata": {},
   "source": [
    "###### Gradient descent for finding global minima of the cost function (finding optimal w, b parameters)"
   ]
  },
  {
   "cell_type": "code",
   "execution_count": 18,
   "id": "cf86f7fd",
   "metadata": {},
   "outputs": [],
   "source": [
    "def gradient_descent(X , y , w , b , alpha , num_iters , gradient_function , cost_function):\n",
    "    \"\"\"\n",
    "    Performs batch gradient descent to learn theta. Updates theta by taking \n",
    "    num_iters gradient steps with learning rate alpha\n",
    "    \n",
    "    Args:\n",
    "      X (ndarray (m,n))   : Data, m examples with n features\n",
    "      y (ndarray (m,))    : target values\n",
    "      w (ndarray (n,)      : initial model parameters  \n",
    "      b (scalar)          : initial model parameter\n",
    "      alpha (float)       : Learning rate\n",
    "      num_iters (int)     : number of iterations to run gradient descent\n",
    "      gradient_function   : function to compute the gradient\n",
    "      cost_function       : function to compute cost\n",
    "      \n",
    "    Returns:\n",
    "      w (ndarray (n,)) : Updated values of parameters \n",
    "      b (scalar)       : Updated value of parameter \n",
    "      \"\"\"\n",
    "    J_history = []\n",
    "    for i in range(num_iters):\n",
    "        dj_dw , dj_db = gradient_function(X , y , w , b)\n",
    "        \n",
    "        w = w - alpha * dj_dw\n",
    "        b = b - alpha * dj_db\n",
    "        \n",
    "        # Save cost J at each iteration\n",
    "        if i < 100000:      # prevent resource exhaustion \n",
    "            J_history.append(cost_function(X, y, w, b))\n",
    "            \n",
    "        # Print cost every at intervals 10 times or as many iterations if < 10\n",
    "        if i % np.ceil(num_iters / 10) == 0:\n",
    "            print(f\"Iteration {i:4d}: Cost {J_history[-1]:8.2f}   \")\n",
    "        \n",
    "    return w, b, J_history # return final w,b and J history for graphing"
   ]
  },
  {
   "cell_type": "code",
   "execution_count": 23,
   "id": "5d8e7203",
   "metadata": {},
   "outputs": [
    {
     "name": "stdout",
     "output_type": "stream",
     "text": [
      "Iteration    0: Cost   662.52   \n",
      "Iteration  100: Cost    42.38   \n",
      "Iteration  200: Cost    42.38   \n",
      "Iteration  300: Cost    42.38   \n",
      "Iteration  400: Cost    42.38   \n",
      "Iteration  500: Cost    42.38   \n",
      "Iteration  600: Cost    42.38   \n",
      "Iteration  700: Cost    42.38   \n",
      "Iteration  800: Cost    42.38   \n",
      "Iteration  900: Cost    42.38   \n",
      "b,w found by gradient descent: 37.98,[-2.87717494 -6.78084682  3.81707864] \n"
     ]
    }
   ],
   "source": [
    "# initialize parameters\n",
    "initial_w = np.zeros_like(w_in)\n",
    "initial_b = 0.\n",
    "# some gradient descent settings\n",
    "iterations = 1000\n",
    "alpha = 1.0e-1\n",
    "# run gradient descent \n",
    "w_final, b_final, J_hist = gradient_descent(X_norm , y_train , initial_w , initial_b ,\n",
    "                                                    alpha , iterations , \n",
    "                                                    compute_gradient , compute_cost)\n",
    "print(f\"b,w found by gradient descent: {b_final:0.2f},{w_final} \")"
   ]
  },
  {
   "cell_type": "markdown",
   "id": "c4bc48a3",
   "metadata": {},
   "source": [
    "###### Making predictions"
   ]
  },
  {
   "cell_type": "code",
   "execution_count": 24,
   "id": "9d57ce87",
   "metadata": {},
   "outputs": [],
   "source": [
    "def predict(X , w , b):\n",
    "    \"\"\"\n",
    "    prediction using linear regression\n",
    "    Args:\n",
    "      X (ndarray): Shape (m,n) / (n,) example with multiple features\n",
    "      w (ndarray): Shape (n,) model parameters   \n",
    "      b (scalar):             model parameter \n",
    "      \n",
    "    Returns:\n",
    "      prediction (scalar) / (ndarray (n,))\n",
    "    \"\"\"\n",
    "    return np.dot(X , w) + b"
   ]
  },
  {
   "cell_type": "code",
   "execution_count": 25,
   "id": "fa99bc82",
   "metadata": {},
   "outputs": [
    {
     "name": "stdout",
     "output_type": "stream",
     "text": [
      "Predictions: [47.40375034 48.07436724 43.07852862]\n",
      "Target variables: [37.9 42.2 47.3]\n",
      "Prediction with custom features: [ 20. 300.   9.]: 38.087734008185755\n"
     ]
    }
   ],
   "source": [
    "X_pred = predict(X_norm , w_final , b_final)\n",
    "x_custom = np.array([20. , 300. , 9.])\n",
    "\n",
    "# normalizing the feature vector\n",
    "x_custom_norm = normalize_vector(X_train , x_custom)\n",
    "# making predictions with normalized vector\n",
    "x_pred = predict(x_custom_norm , w_final , b_final)\n",
    "\n",
    "print(f'Predictions: {X_pred[:3]}\\nTarget variables: {y_train[:3]}')\n",
    "print(f'Prediction with custom features: {x_custom}: {x_pred}')"
   ]
  },
  {
   "cell_type": "markdown",
   "id": "16884a80",
   "metadata": {},
   "source": [
    "###### Plotting the learning curve"
   ]
  },
  {
   "cell_type": "code",
   "execution_count": 26,
   "id": "12c1d3c5",
   "metadata": {
    "scrolled": true
   },
   "outputs": [
    {
     "data": {
      "image/png": "[encoded data removed]",
      "text/plain": [
       "<Figure size 864x288 with 2 Axes>"
      ]
     },
     "metadata": {
      "needs_background": "light"
     },
     "output_type": "display_data"
    }
   ],
   "source": [
    "# plot cost versus iteration  \n",
    "fig, (ax1, ax2) = plt.subplots(1, 2, constrained_layout=True, figsize=(12, 4))\n",
    "ax1.plot(J_hist)\n",
    "ax2.plot(100 + np.arange(len(J_hist[100:])), J_hist[100:])\n",
    "ax1.set_title(\"Cost vs. iteration\");  ax2.set_title(\"Cost vs. iteration (tail)\")\n",
    "ax1.set_ylabel('Cost')             ;  ax2.set_ylabel('Cost') \n",
    "ax1.set_xlabel('iteration step')   ;  ax2.set_xlabel('iteration step') \n",
    "plt.show()"
   ]
  },
  {
   "cell_type": "markdown",
   "id": "c341cd48",
   "metadata": {},
   "source": [
    "### Implementation with sklearn"
   ]
  },
  {
   "cell_type": "markdown",
   "id": "9fcea986",
   "metadata": {},
   "source": [
    "###### Scale/normalize the training data"
   ]
  },
  {
   "cell_type": "code",
   "execution_count": 29,
   "id": "ec74e96a",
   "metadata": {},
   "outputs": [
    {
     "name": "stdout",
     "output_type": "stream",
     "text": [
      "Peak to Peak range by column in Raw        X:[  43.8     6464.63816   10.     ]\n",
      "Peak to Peak range by column in Normalized X:[3.84929156 5.12828671 3.39904571]\n"
     ]
    }
   ],
   "source": [
    "scaler = StandardScaler()\n",
    "sk_X_norm = scaler.fit_transform(X_train)\n",
    "print(f\"Peak to Peak range by column in Raw        X:{np.ptp(X_train,axis = 0)}\")   \n",
    "print(f\"Peak to Peak range by column in Normalized X:{np.ptp(sk_X_norm,axis = 0)}\")"
   ]
  },
  {
   "cell_type": "markdown",
   "id": "dfc667ff",
   "metadata": {},
   "source": [
    "###### Create and fit the regression model"
   ]
  },
  {
   "cell_type": "code",
   "execution_count": 30,
   "id": "256506e5",
   "metadata": {},
   "outputs": [
    {
     "name": "stdout",
     "output_type": "stream",
     "text": [
      "number of iterations completed: 25, number of weight updates: 10351.0\n"
     ]
    }
   ],
   "source": [
    "sgdr = SGDRegressor(max_iter = 1000)\n",
    "sgdr.fit(sk_X_norm , y_train)\n",
    "print(f\"number of iterations completed: {sgdr.n_iter_}, number of weight updates: {sgdr.t_}\")"
   ]
  },
  {
   "cell_type": "markdown",
   "id": "c9b03433",
   "metadata": {},
   "source": [
    "###### View parameters"
   ]
  },
  {
   "cell_type": "code",
   "execution_count": 31,
   "id": "b9b456ff",
   "metadata": {},
   "outputs": [
    {
     "name": "stdout",
     "output_type": "stream",
     "text": [
      "model parameters:\n",
      "w: [-2.87075113 -6.7809304   3.853759  ], b:[38.0059003]\n"
     ]
    }
   ],
   "source": [
    "b_norm = sgdr.intercept_\n",
    "w_norm = sgdr.coef_\n",
    "print(f\"model parameters:\\nw: {w_norm}, b:{b_norm}\")"
   ]
  },
  {
   "cell_type": "markdown",
   "id": "45866b8b",
   "metadata": {},
   "source": [
    "###### Computing cost with newly found parameters"
   ]
  },
  {
   "cell_type": "code",
   "execution_count": 32,
   "id": "8975a6ac",
   "metadata": {},
   "outputs": [
    {
     "data": {
      "text/plain": [
       "42.38139051731808"
      ]
     },
     "execution_count": 32,
     "metadata": {},
     "output_type": "execute_result"
    }
   ],
   "source": [
    "compute_cost(sk_X_norm , y_train , w_norm , b_norm)"
   ]
  },
  {
   "cell_type": "markdown",
   "id": "10008c62",
   "metadata": {},
   "source": [
    "###### Make predictions"
   ]
  },
  {
   "cell_type": "code",
   "execution_count": 33,
   "id": "6c8a004b",
   "metadata": {},
   "outputs": [
    {
     "name": "stdout",
     "output_type": "stream",
     "text": [
      "prediction using np.dot() and sgdr.predict match: True\n",
      "Prediction on training set:\n",
      "[47.51122199 48.16229954 43.11307251]\n",
      "Target values \n",
      "[37.9 42.2 47.3]\n"
     ]
    }
   ],
   "source": [
    "# make a prediction using sgdr.predict()\n",
    "y_pred_sgd = sgdr.predict(sk_X_norm)\n",
    "# make a prediction using w,b. \n",
    "y_pred = np.dot(sk_X_norm, w_norm) + b_norm  \n",
    "print(f\"prediction using np.dot() and sgdr.predict match: {(y_pred == y_pred_sgd).all()}\")\n",
    "\n",
    "print(f\"Prediction on training set:\\n{y_pred[:3]}\" )\n",
    "print(f\"Target values \\n{y_train[:3]}\")"
   ]
  },
  {
   "cell_type": "markdown",
   "id": "f5c368a1",
   "metadata": {},
   "source": [
    "###### Plot Results"
   ]
  },
  {
   "cell_type": "code",
   "execution_count": 34,
   "id": "e796adac",
   "metadata": {},
   "outputs": [],
   "source": [
    "# feature vector\n",
    "X_features = ['X2 house age','X3 distance to the MRT','X4 number of convenience stores']"
   ]
  },
  {
   "cell_type": "code",
   "execution_count": 35,
   "id": "151cfcb3",
   "metadata": {},
   "outputs": [
    {
     "data": {
      "image/png": "[encoded data removed]",
      "text/plain": [
       "<Figure size 864x216 with 3 Axes>"
      ]
     },
     "metadata": {
      "needs_background": "light"
     },
     "output_type": "display_data"
    }
   ],
   "source": [
    "# plot predictions and targets vs original features    \n",
    "fig,ax = plt.subplots(1,3,figsize = (12,3),sharey = True)\n",
    "for i in range(len(ax)):\n",
    "    ax[i].scatter(X_train[:,i],y_train, label = 'target')\n",
    "    ax[i].set_xlabel(X_features[i])\n",
    "    ax[i].scatter(X_train[:,i],y_pred,color = 'orange', label = 'predict')\n",
    "ax[0].set_ylabel(\"Price\"); ax[0].legend();\n",
    "fig.suptitle(\"target versus prediction using z-score normalized model\")\n",
    "plt.show()"
   ]
  }
 ],
 "metadata": {
  "kernelspec": {
   "display_name": "Python 3 (ipykernel)",
   "language": "python",
   "name": "python3"
  },
  "language_info": {
   "codemirror_mode": {
    "name": "ipython",
    "version": 3
   },
   "file_extension": ".py",
   "mimetype": "text/x-python",
   "name": "python",
   "nbconvert_exporter": "python",
   "pygments_lexer": "ipython3",
   "version": "3.10.5"
  }
 },
 "nbformat": 4,
 "nbformat_minor": 5
}
